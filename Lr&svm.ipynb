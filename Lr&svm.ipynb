{
 "cells": [
  {
   "cell_type": "code",
   "execution_count": 1,
   "metadata": {},
   "outputs": [],
   "source": [
    "import numpy as np\n",
    "import pandas as pd \n",
    "\n",
    "import matplotlib.pyplot as plt\n",
    "\n",
    "\n",
    "from sklearn.model_selection import train_test_split , cross_val_score,GridSearchCV\n",
    "from sklearn.preprocessing import KBinsDiscretizer,OneHotEncoder,MinMaxScaler,StandardScaler\n",
    "from sklearn.metrics import confusion_matrix\n",
    "from sklearn.svm import SVC\n",
    "from sklearn.linear_model import LogisticRegression\n",
    "\n",
    "import time"
   ]
  },
  {
   "cell_type": "code",
   "execution_count": 2,
   "metadata": {},
   "outputs": [],
   "source": [
    "df =pd.read_excel(r'D:\\desktop\\datasets\\userloss.xlsx')"
   ]
  },
  {
   "cell_type": "code",
   "execution_count": 14,
   "metadata": {},
   "outputs": [],
   "source": [
    "# 划分特征和标签， 第一列playerid 无实际意义 故不用作特征\n",
    "X,y = df.iloc[:,1:28].values,df.iloc[:,-1].values\n",
    "Xtrain,Xtest,ytrain,ytest = train_test_split(X,y,test_size=0.3,random_state = 42)"
   ]
  },
  {
   "cell_type": "code",
   "execution_count": 15,
   "metadata": {},
   "outputs": [],
   "source": [
    "# 先对初始数据建模 看一下效果\n",
    "score_train_list = []\n",
    "score_test_list = []\n",
    "for c in np.linspace(start = 0.01, stop = 100):\n",
    "    lr = LogisticRegression(C = c,max_iter=500,penalty=\"l2\")\n",
    "    lr.fit(Xtrain,ytrain)\n",
    "\n",
    "    score = lr.score(Xtrain,ytrain)\n",
    "    score_train_list.append(score)\n",
    "    score_test_list.append(lr.score(Xtest,ytest))"
   ]
  },
  {
   "cell_type": "code",
   "execution_count": 16,
   "metadata": {},
   "outputs": [
    {
     "data": {
      "image/png": "[encoded data removed]",
      "text/plain": [
       "<Figure size 432x288 with 1 Axes>"
      ]
     },
     "metadata": {
      "needs_background": "light"
     },
     "output_type": "display_data"
    }
   ],
   "source": [
    "# 对c化学习曲线\n",
    "plt.plot(list(np.linspace(start = 0.01, stop = 100)),score_test_list,color='red',label='testing accuracy')    \n",
    "plt.plot(list(np.linspace(start = 0.01, stop = 100)),score_train_list,color='green',label='training accuracy')\n",
    "plt.legend()\n",
    "plt.show()"
   ]
  },
  {
   "cell_type": "code",
   "execution_count": 17,
   "metadata": {},
   "outputs": [],
   "source": [
    "#### 对数据进行归一化\n",
    "#  对原始数据进行标准化 、然后训练\n",
    "Xtrain,Xtest,ytrain,ytest = train_test_split(X,y,test_size=0.3,random_state = 0)\n",
    "scaler = StandardScaler()\n",
    "Xtrain_scaler=scaler.fit_transform(Xtrain)\n",
    "Xtest_scaler = scaler.transform(Xtest)"
   ]
  },
  {
   "cell_type": "code",
   "execution_count": 18,
   "metadata": {},
   "outputs": [
    {
     "data": {
      "image/png": "[encoded data removed]",
      "text/plain": [
       "<Figure size 432x288 with 1 Axes>"
      ]
     },
     "metadata": {
      "needs_background": "light"
     },
     "output_type": "display_data"
    }
   ],
   "source": [
    "score_train_list = []\n",
    "score_test_list = []\n",
    "c_list = np.linspace(start = 0.01, stop = 0.25, num = 10)\n",
    "for c in c_list:\n",
    "    lr = LogisticRegression(C =c, max_iter=500,penalty=\"l2\")\n",
    "    lr.fit(Xtrain_scaler,ytrain)\n",
    "\n",
    "    score = lr.score(Xtrain_scaler,ytrain)\n",
    "    score_train_list.append(score)\n",
    "    score_test_list.append(lr.score(Xtest_scaler,ytest))\n",
    "plt.plot(list(c_list),score_test_list,color='red',label='testing accuracy')    \n",
    "plt.plot(list(c_list),score_train_list,color='green',label='training accuracy')\n",
    "plt.legend()\n",
    "plt.show()"
   ]
  },
  {
   "cell_type": "code",
   "execution_count": 19,
   "metadata": {},
   "outputs": [
    {
     "name": "stdout",
     "output_type": "stream",
     "text": [
      "test_train_score:0.827981\n",
      "test_best_score:0.827246\n"
     ]
    }
   ],
   "source": [
    "print(\"test_train_score:%f\"%max(score_train_list))\n",
    "print(\"test_best_score:%f\"%max(score_test_list))"
   ]
  },
  {
   "cell_type": "code",
   "execution_count": 20,
   "metadata": {},
   "outputs": [
    {
     "data": {
      "text/plain": [
       "0.8650202065559048"
      ]
     },
     "execution_count": 20,
     "metadata": {},
     "output_type": "execute_result"
    }
   ],
   "source": [
    "#查看一下混淆矩阵\n",
    "\n",
    "# 计算召回率 \n",
    "mat=confusion_matrix(ytest,lr.predict(Xtest_scaler))\n",
    "recall=mat[0][0]/(mat[0][0]+mat[1][0])\n",
    "recall"
   ]
  },
  {
   "cell_type": "code",
   "execution_count": 21,
   "metadata": {},
   "outputs": [],
   "source": [
    "score_train_list = []\n",
    "score_test_list = []\n",
    "param_grid = {\n",
    "    \"C\":[0.001,0.01,0.1,1,10,100],\n",
    "    \"gamma\":[0.001,0.01,0.1,1,10,100]\n",
    "}  \n",
    "\n",
    "grid = GridSearchCV(SVC(),param_grid=param_grid,cv = 3)"
   ]
  },
  {
   "cell_type": "code",
   "execution_count": 22,
   "metadata": {},
   "outputs": [
    {
     "name": "stdout",
     "output_type": "stream",
     "text": [
      "train set score:0.970\n",
      "test set score:0.935\n",
      "best param dict:{'C': 100, 'gamma': 1}\n",
      "best score:0.916\n",
      "best estimators:\n",
      "SVC(C=100, gamma=1)\n"
     ]
    }
   ],
   "source": [
    "grid.fit(Xtrain_scaler,ytrain)\n",
    "print(\"train set score:{:.3f}\".format(grid.score(Xtrain_scaler,ytrain)))\n",
    "print(\"test set score:{:.3f}\".format(grid.score(Xtest_scaler,ytest)))\n",
    "print(\"best param dict:{}\".format(grid.best_params_))\n",
    "print(\"best score:{:.3f}\".format(grid.best_score_))\n",
    "print(\"best estimators:\\n{}\".format(grid.best_estimator_))\n"
   ]
  },
  {
   "cell_type": "code",
   "execution_count": 23,
   "metadata": {},
   "outputs": [],
   "source": [
    "best = grid.best_params_"
   ]
  },
  {
   "cell_type": "code",
   "execution_count": 24,
   "metadata": {},
   "outputs": [
    {
     "data": {
      "text/plain": [
       "array([[11373,   817],\n",
       "       [  716, 10584]], dtype=int64)"
      ]
     },
     "execution_count": 24,
     "metadata": {},
     "output_type": "execute_result"
    }
   ],
   "source": [
    "confusion_matrix(ytest,grid.predict(Xtest_scaler))"
   ]
  }
 ],
 "metadata": {
  "kernelspec": {
   "display_name": "Python 3",
   "language": "python",
   "name": "python3"
  },
  "language_info": {
   "codemirror_mode": {
    "name": "ipython",
    "version": 3
   },
   "file_extension": ".py",
   "mimetype": "text/x-python",
   "name": "python",
   "nbconvert_exporter": "python",
   "pygments_lexer": "ipython3",
   "version": "3.8.3"
  }
 },
 "nbformat": 4,
 "nbformat_minor": 4
}
