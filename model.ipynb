{
 "cells": [
  {
   "cell_type": "markdown",
   "metadata": {},
   "source": [
    "<a herf='https://blog.csdn.net/weixin_42546496/article/details/88115095'>常用公式</a>\n",
    "\n",
    "# 1\n",
    "## 1.3 方法 = 模型 + 策略 + 算法\n",
    "### 1.3.1  模型：\n",
    "1. 监督过程：所要学习的条件概率分布或决策函数。模型的假设空间（hypothesis space）版号所有可能条件概率分布或决策函数。\n",
    "\n",
    "### 1.3.2 策略\n",
    "1. 按照什么样准则学习或选择最优的模型。统计学习的目标在于从假设控价选取最优的模型。\n",
    "\n",
    "##### 1 损失函数和风险系数\n",
    "1. 监督问题中是在假设空间 $F$ 中选取模型 $f$ 作为决策函数，对于给定的输入$X$,由$f(X)$ 给出相应的的输出$Y$, 这个输出的预测值$f(X)$可能和真实值$Y$不一致，用一个损坏函数（loss function）或代价函数（cost function）来度量预测错误的程度。损失函数是$f(X)$ 和Y的非负实值函数，记作$L(Y,f(X))$ .\n",
    "2. 常用损失函数：\n",
    "   1. 0- 1 损失函数\n",
    "   2. 平方损失函数\n",
    "   3. 绝对损失函数\n",
    "   4. 对数损失函数\n",
    "损失函数值越小，模型就越好，由于模型的输入，输出$(X,Y)$ 是随机变量，遵循联合分布$P(X,Y)$ ,所以损失函数的期望：\n",
    "$R_{exp}(f)$ = $E_{p}$[$L(Y,F(X))$] = $\\int_{x*y}$ $L(y,f(x))P(x,y)dxdy$   (1.9) -- 》 理论上模型$f(x)$关于联合分布$P(X,Y)的平均意义下的损失，称为风险系数（risk function）或者期望损失（expected loss）。\n",
    "\n",
    "故学习的目标就是选择期望损失最小的模型。\n",
    "给定一个训练数据集：$T = \\{(x_1,y_1),(x_2,y_2),...,(x_N,y_n)\\}$ \n",
    "\n",
    "模型$f(X)关于训练数据集的平均损失函数称为经验风险（empirical risk） 或 或经验损失（empirical loss） ，记作$R_{emp}$: $R_{emp}(f) = {1\\over N}\\sum_1^nL(y_i,f(x_i))$ (1.10)\n",
    "\n",
    "\n",
    "##### 2. 经验风险最小化与结构风险最小化。\n",
    "\n"
   ]
  },
  {
   "cell_type": "code",
   "execution_count": null,
   "metadata": {},
   "outputs": [],
   "source": []
  },
  {
   "cell_type": "code",
   "execution_count": 7,
   "metadata": {},
   "outputs": [],
   "source": []
  },
  {
   "cell_type": "code",
   "execution_count": null,
   "metadata": {},
   "outputs": [],
   "source": []
  }
 ],
 "metadata": {
  "kernelspec": {
   "display_name": "Python 3",
   "language": "python",
   "name": "python3"
  },
  "language_info": {
   "codemirror_mode": {
    "name": "ipython",
    "version": 3
   },
   "file_extension": ".py",
   "mimetype": "text/x-python",
   "name": "python",
   "nbconvert_exporter": "python",
   "pygments_lexer": "ipython3",
   "version": "3.10.11"
  }
 },
 "nbformat": 4,
 "nbformat_minor": 2
}
