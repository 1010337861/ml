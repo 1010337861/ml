{
 "cells": [
  {
   "cell_type": "code",
   "execution_count": null,
   "metadata": {},
   "outputs": [],
   "source": [
    "#### **第一章**\n",
    "##### 数据探究--鸢尾花数据\n",
    "######  学习目标:学习sklearn常用命令，探究数据常用方法\n"
   ]
  },
  {
   "cell_type": "code",
   "execution_count": null,
   "metadata": {},
   "outputs": [],
   "source": [
    "from sklearn.datasets import load_iris "
   ]
  },
  {
   "cell_type": "code",
   "execution_count": null,
   "metadata": {},
   "outputs": [],
   "source": [
    "iris_data['data'].shape"
   ]
  },
  {
   "cell_type": "code",
   "execution_count": null,
   "metadata": {},
   "outputs": [],
   "source": [
    "iris_data['data'][0:5]"
   ]
  },
  {
   "cell_type": "code",
   "execution_count": null,
   "metadata": {},
   "outputs": [],
   "source": [
    "iris_data['target'].shape"
   ]
  },
  {
   "cell_type": "code",
   "execution_count": null,
   "metadata": {},
   "outputs": [],
   "source": [
    "from  sklearn.model_selection import train_test_split \n",
    "Xtrain,Xtest,ytrain,ytest = train_test_split(iris_data['data'],iris_data['target'],random_state =0,test_size = 0.3)"
   ]
  },
  {
   "cell_type": "code",
   "execution_count": null,
   "metadata": {},
   "outputs": [],
   "source": [
    "import pandas as pd\n",
    "iris_dataframe = pd.DataFrame(Xtrain,columns = iris_data['feature_names'])"
   ]
  },
  {
   "cell_type": "code",
   "execution_count": null,
   "metadata": {},
   "outputs": [],
   "source": [
    "###### pd.plotting.scatter_matrix--解析\n",
    "+ 参数\n",
    "    + frame: DataFrame 对象\n",
    "    + alpha: 图像透明度\n",
    "    + figsize: 图像尺寸，元祖形式\n",
    "    + ax: (Matplotlib axis object, 可选)，一般取None   \n",
    "    + diagonal：({‘hist’, ‘kde’})，必须且只能在{‘hist’, ‘kde’}中选择1个，’hist’表示直方图(Histogram plot),’kde’表示核密度估计(Kernel Density Estimation)；该参数是scatter_matrix函数的关键参数\n",
    "    + marker: (str, 可选)， Matplotlib可用的标记类型，如’.’，’,’，’o’等\n",
    "    + density_kwds:(other plotting keyword arguments，可选)，与kde相关的字典参数\n",
    "    + hist_kwds :(other plotting keyword arguments，可选)，与hist相关的字典参数\n",
    "    + range_padding: (float, 可选)，图像在x轴、y轴原点附近的留白(padding)，该值越大，留白距离越大，图像远离坐标原点\n",
    "    + kwds :(other plotting keyword arguments，可选)，与scatter_matrix函数本身相关的字典参数"
   ]
  },
  {
   "cell_type": "code",
   "execution_count": null,
   "metadata": {},
   "outputs": [],
   "source": [
    "grr = pd.plotting.scatter_matrix(iris_dataframe,marker='o',figsize=(15,15),c = ytrain,hist_kwds={'bins':20},cmap=mglearn.cm3)\n"
   ]
  },
  {
   "cell_type": "code",
   "execution_count": null,
   "metadata": {},
   "outputs": [],
   "source": [
    "##### 算法1---K近邻算法"
   ]
  },
  {
   "cell_type": "code",
   "execution_count": null,
   "metadata": {},
   "outputs": [],
   "source": [
    "from sklearn.neighbors import KNeighborsClassifier as KNN ## 导包\n",
    "knn = KNN(n_neighbors = 1)## 实力化\n",
    "knn.fit(Xtrain ,ytrain) ## 训练数据"
   ]
  },
  {
   "cell_type": "code",
   "execution_count": null,
   "metadata": {},
   "outputs": [],
   "source": [
    "import numpy as np\n",
    "X_new = np.array([[5,2.9,1,0.2]])\n",
    "print(\"X_new.shape{}\".format(X_new.shape))"
   ]
  },
  {
   "cell_type": "code",
   "execution_count": null,
   "metadata": {},
   "outputs": [],
   "source": [
    "## 预测数据\n",
    "prediction = knn.predict(X_new)\n",
    "print(\"prediction:{}\".format(prediction))\n",
    "print(\"predicted target name:{}\".format(iris_data['target_names'][prediction]))"
   ]
  },
  {
   "cell_type": "code",
   "execution_count": null,
   "metadata": {},
   "outputs": [],
   "source": [
    "##### 模型评估\n",
    "+ 精度：accuracy--预测正确的样本所占的比例\n",
    "   "
   ]
  },
  {
   "cell_type": "code",
   "execution_count": null,
   "metadata": {},
   "outputs": [],
   "source": [
    "## 打分\n",
    "print(\"Test set score by np.mean :{:.2f}\".format(np.mean(y_pred == ytest))) ## 通过使用np.mean 计算accuracy\n",
    "print(\"Test set score by score:{:.2f}\".format(knn.score(Xtest,ytest)))  ##  通过使用knn.scores 计算accuracy"
   ]
  },
  {
   "cell_type": "code",
   "execution_count": null,
   "metadata": {},
   "outputs": [],
   "source": [
    "##### 小结 \n",
    "+ 基本定义\n",
    "    + class： 类别\n",
    "    + label： 标签\n",
    "    + train set ： 训练集\n",
    "    + test set ：  测试集\n",
    "+ 常用方法\n",
    "    + fit\n",
    "    + transform\n",
    "    + predict\n",
    "    + score\n",
    "+ 常用属性\n",
    "    + score\n"
   ]
  }
 ],
 "metadata": {
  "kernelspec": {
   "display_name": "Python 3",
   "language": "python",
   "name": "python3"
  },
  "language_info": {
   "codemirror_mode": {
    "name": "ipython",
    "version": 3
   },
   "file_extension": ".py",
   "mimetype": "text/x-python",
   "name": "python",
   "nbconvert_exporter": "python",
   "pygments_lexer": "ipython3",
   "version": "3.8.3"
  }
 },
 "nbformat": 4,
 "nbformat_minor": 4
}
